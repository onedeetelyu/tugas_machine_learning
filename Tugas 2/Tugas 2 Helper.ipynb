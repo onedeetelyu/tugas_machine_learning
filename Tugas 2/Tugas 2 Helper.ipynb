{
 "cells": [
  {
   "cell_type": "code",
   "execution_count": 1,
   "id": "c95e2329",
   "metadata": {},
   "outputs": [
    {
     "name": "stdout",
     "output_type": "stream",
     "text": [
      "Input your NIM\n",
      ":1301218598\n"
     ]
    }
   ],
   "source": [
    "import pandas as pd\n",
    "import numpy as np\n",
    "\n",
    "print(\"Input your NIM\")\n",
    "NIM = input(\":\")\n",
    "\n",
    "try:\n",
    "    NIM = int(NIM)\n",
    "    np.random.seed(NIM)\n",
    "    x1 = np.random.randint(1, high=50, size=10)\n",
    "    x2 = np.random.randint(2, high=50, size=10)\n",
    "    tmp_dict = {\"x1\": x1, \"x2\": x2}\n",
    "    df = pd.DataFrame(tmp_dict)\n",
    "    df[\"class (1 or 2)\"] = \"\"\n",
    "\n",
    "\n",
    "    tmp_dict = {\"iteration\": list(np.arange(5))}\n",
    "\n",
    "    np.random.seed(NIM)\n",
    "    x1 = np.random.randint(1, high=50, size=2)\n",
    "    x2 = np.random.randint(2, high=50, size=2)\n",
    "\n",
    "    tmp_dict[\"x1-centroid-1\"] = x1[0]\n",
    "    tmp_dict[\"x2-centroid-1\"] = x1[1]\n",
    "    tmp_dict[\"x1-centroid-2\"] = x2[0]\n",
    "    tmp_dict[\"x2-centroid-2\"] = x2[1]\n",
    "\n",
    "    cent_df = pd.DataFrame(tmp_dict)\n",
    "\n",
    "    for i in range(4):\n",
    "        cent_df.loc[i+1, \"x1-centroid-1\"] = \"\"\n",
    "        cent_df.loc[i+1, \"x2-centroid-1\"] = \"\"\n",
    "        cent_df.loc[i+1, \"x1-centroid-2\"] = \"\"\n",
    "        cent_df.loc[i+1, \"x2-centroid-2\"] = \"\"\n",
    "\n",
    "    with pd.ExcelWriter('Data_Set_{}.xlsx'.format(NIM)) as writer:  \n",
    "        df.to_excel(writer, sheet_name='Data Set', index=None)\n",
    "        cent_df.to_excel(writer, sheet_name='Centroid', index=None)\n",
    "\n",
    "except:\n",
    "    print(\"Error: input is invalid: value is not a number\")"
   ]
  },
  {
   "cell_type": "code",
   "execution_count": 3,
   "id": "b9311307",
   "metadata": {},
   "outputs": [
    {
     "data": {
      "image/png": "[encoded data removed]",
      "text/plain": [
       "<Figure size 640x480 with 1 Axes>"
      ]
     },
     "metadata": {},
     "output_type": "display_data"
    }
   ],
   "source": [
    "import matplotlib.pyplot as plt\n",
    "from sklearn.cluster import KMeans\n",
    "\n",
    "x = [46,14,24,13,3,23,12,39,16,44]\n",
    "y = [27,4,36,40,24,26,44,16,49,37]\n",
    "data = list(zip(x, y))\n",
    "\n",
    "kmeans = KMeans(n_clusters=2)\n",
    "kmeans.fit(data)\n",
    "\n",
    "plt.scatter(x, y, c=kmeans.labels_)\n",
    "plt.show()"
   ]
  },
  {
   "cell_type": "code",
   "execution_count": null,
   "id": "cc2f57e4",
   "metadata": {},
   "outputs": [],
   "source": []
  }
 ],
 "metadata": {
  "kernelspec": {
   "display_name": "Python 3 (ipykernel)",
   "language": "python",
   "name": "python3"
  },
  "language_info": {
   "codemirror_mode": {
    "name": "ipython",
    "version": 3
   },
   "file_extension": ".py",
   "mimetype": "text/x-python",
   "name": "python",
   "nbconvert_exporter": "python",
   "pygments_lexer": "ipython3",
   "version": "3.9.13"
  }
 },
 "nbformat": 4,
 "nbformat_minor": 5
}
