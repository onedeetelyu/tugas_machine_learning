{
  "cells": [
    {
      "cell_type": "code",
      "execution_count": null,
      "metadata": {
        "id": "_ZPJhtZ4CsdZ",
        "colab": {
          "base_uri": "https://localhost:8080/"
        },
        "outputId": "8a9192c7-b9d5-489a-945c-1bcc3754f87e"
      },
      "outputs": [
        {
          "output_type": "stream",
          "name": "stdout",
          "text": [
            "Looking in indexes: https://pypi.org/simple, https://us-python.pkg.dev/colab-wheels/public/simple/\n",
            "Requirement already satisfied: pandas in /usr/local/lib/python3.8/dist-packages (1.3.5)\n",
            "Requirement already satisfied: numpy>=1.17.3 in /usr/local/lib/python3.8/dist-packages (from pandas) (1.21.6)\n",
            "Requirement already satisfied: python-dateutil>=2.7.3 in /usr/local/lib/python3.8/dist-packages (from pandas) (2.8.2)\n",
            "Requirement already satisfied: pytz>=2017.3 in /usr/local/lib/python3.8/dist-packages (from pandas) (2022.6)\n",
            "Requirement already satisfied: six>=1.5 in /usr/local/lib/python3.8/dist-packages (from python-dateutil>=2.7.3->pandas) (1.15.0)\n",
            "Looking in indexes: https://pypi.org/simple, https://us-python.pkg.dev/colab-wheels/public/simple/\n",
            "Requirement already satisfied: scikit-learn in /usr/local/lib/python3.8/dist-packages (1.0.2)\n",
            "Requirement already satisfied: joblib>=0.11 in /usr/local/lib/python3.8/dist-packages (from scikit-learn) (1.2.0)\n",
            "Requirement already satisfied: scipy>=1.1.0 in /usr/local/lib/python3.8/dist-packages (from scikit-learn) (1.7.3)\n",
            "Requirement already satisfied: threadpoolctl>=2.0.0 in /usr/local/lib/python3.8/dist-packages (from scikit-learn) (3.1.0)\n",
            "Requirement already satisfied: numpy>=1.14.6 in /usr/local/lib/python3.8/dist-packages (from scikit-learn) (1.21.6)\n"
          ]
        }
      ],
      "source": [
        "!pip install pandas\n",
        "!pip install scikit-learn"
      ]
    },
    {
      "cell_type": "code",
      "execution_count": null,
      "metadata": {
        "id": "jTe4ECIlCsde"
      },
      "outputs": [],
      "source": [
        "## Isi nama dan NIM seluruh anggota kelompok di sini\n",
        "#   Nama                            NIM\n",
        "#   Mohammad Andiez Satria Permana  1301218598\n",
        "#   HNW Syahuda Nahatmasuni         1301218603\n",
        "#   Wandi Yusuf Kurniawan           1301218601"
      ]
    },
    {
      "cell_type": "code",
      "execution_count": null,
      "metadata": {
        "id": "5V70Yv80Csdf"
      },
      "outputs": [],
      "source": [
        "import numpy as np\n",
        "import pandas as pd\n",
        "from sklearn.model_selection import train_test_split\n",
        "from sklearn import tree"
      ]
    },
    {
      "cell_type": "markdown",
      "metadata": {
        "id": "xF-5UYl-Csdg"
      },
      "source": [
        "# Load Dataset\n",
        "Inisialisasi variable, masukan NIM di sini untuk random state.\n",
        "\n",
        "Gunakan NIM salah satu anggota kelompok.\n",
        "\n"
      ]
    },
    {
      "cell_type": "code",
      "execution_count": null,
      "metadata": {
        "id": "IsmnaZpMCsdh"
      },
      "outputs": [],
      "source": [
        "filepath = \"./sample_data/seeds_dataset.csv\"\n",
        "\n",
        "# Isi nim anda di sini\n",
        "nim = 1301218601"
      ]
    },
    {
      "cell_type": "markdown",
      "metadata": {
        "id": "cCCQJ-TSCsdh"
      },
      "source": [
        "Load dataset, cek konten data\n",
        "\n",
        "Target kelas: **Category** "
      ]
    },
    {
      "cell_type": "code",
      "execution_count": null,
      "metadata": {
        "id": "NIdkytHxCsdh",
        "colab": {
          "base_uri": "https://localhost:8080/",
          "height": 363
        },
        "outputId": "1dd3b2c2-0c73-4b98-e74b-2416104fdceb"
      },
      "outputs": [
        {
          "output_type": "execute_result",
          "data": {
            "text/plain": [
              "      Area  Perimeter  Compactness  Kernel_len  Kernel_width  Assymetry  \\\n",
              "8    16.63      15.46       0.8747       6.053         3.465      2.040   \n",
              "67   14.01      14.29       0.8625       5.609         3.158      2.217   \n",
              "0    15.26      14.84       0.8710       5.763         3.312      2.221   \n",
              "199  12.76      13.38       0.8964       5.073         3.155      2.828   \n",
              "26   13.02      13.76       0.8641       5.395         3.026      3.373   \n",
              "19   12.72      13.57       0.8686       5.226         3.049      4.102   \n",
              "70   17.63      15.98       0.8673       6.191         3.561      4.076   \n",
              "51   15.78      14.91       0.8923       5.674         3.434      5.593   \n",
              "207  13.20      13.66       0.8883       5.236         3.232      8.315   \n",
              "169  11.24      13.00       0.8359       5.090         2.715      3.521   \n",
              "\n",
              "     Groove_len  Category  \n",
              "8         5.877         1  \n",
              "67        5.132         1  \n",
              "0         5.220         1  \n",
              "199       4.830         3  \n",
              "26        4.825         1  \n",
              "19        4.914         1  \n",
              "70        6.060         2  \n",
              "51        5.136         1  \n",
              "207       5.056         3  \n",
              "169       5.088         3  "
            ],
            "text/html": [
              "\n",
              "  <div id=\"df-343bedf9-7610-482f-b280-4b1306c31d62\">\n",
              "    <div class=\"colab-df-container\">\n",
              "      <div>\n",
              "<style scoped>\n",
              "    .dataframe tbody tr th:only-of-type {\n",
              "        vertical-align: middle;\n",
              "    }\n",
              "\n",
              "    .dataframe tbody tr th {\n",
              "        vertical-align: top;\n",
              "    }\n",
              "\n",
              "    .dataframe thead th {\n",
              "        text-align: right;\n",
              "    }\n",
              "</style>\n",
              "<table border=\"1\" class=\"dataframe\">\n",
              "  <thead>\n",
              "    <tr style=\"text-align: right;\">\n",
              "      <th></th>\n",
              "      <th>Area</th>\n",
              "      <th>Perimeter</th>\n",
              "      <th>Compactness</th>\n",
              "      <th>Kernel_len</th>\n",
              "      <th>Kernel_width</th>\n",
              "      <th>Assymetry</th>\n",
              "      <th>Groove_len</th>\n",
              "      <th>Category</th>\n",
              "    </tr>\n",
              "  </thead>\n",
              "  <tbody>\n",
              "    <tr>\n",
              "      <th>8</th>\n",
              "      <td>16.63</td>\n",
              "      <td>15.46</td>\n",
              "      <td>0.8747</td>\n",
              "      <td>6.053</td>\n",
              "      <td>3.465</td>\n",
              "      <td>2.040</td>\n",
              "      <td>5.877</td>\n",
              "      <td>1</td>\n",
              "    </tr>\n",
              "    <tr>\n",
              "      <th>67</th>\n",
              "      <td>14.01</td>\n",
              "      <td>14.29</td>\n",
              "      <td>0.8625</td>\n",
              "      <td>5.609</td>\n",
              "      <td>3.158</td>\n",
              "      <td>2.217</td>\n",
              "      <td>5.132</td>\n",
              "      <td>1</td>\n",
              "    </tr>\n",
              "    <tr>\n",
              "      <th>0</th>\n",
              "      <td>15.26</td>\n",
              "      <td>14.84</td>\n",
              "      <td>0.8710</td>\n",
              "      <td>5.763</td>\n",
              "      <td>3.312</td>\n",
              "      <td>2.221</td>\n",
              "      <td>5.220</td>\n",
              "      <td>1</td>\n",
              "    </tr>\n",
              "    <tr>\n",
              "      <th>199</th>\n",
              "      <td>12.76</td>\n",
              "      <td>13.38</td>\n",
              "      <td>0.8964</td>\n",
              "      <td>5.073</td>\n",
              "      <td>3.155</td>\n",
              "      <td>2.828</td>\n",
              "      <td>4.830</td>\n",
              "      <td>3</td>\n",
              "    </tr>\n",
              "    <tr>\n",
              "      <th>26</th>\n",
              "      <td>13.02</td>\n",
              "      <td>13.76</td>\n",
              "      <td>0.8641</td>\n",
              "      <td>5.395</td>\n",
              "      <td>3.026</td>\n",
              "      <td>3.373</td>\n",
              "      <td>4.825</td>\n",
              "      <td>1</td>\n",
              "    </tr>\n",
              "    <tr>\n",
              "      <th>19</th>\n",
              "      <td>12.72</td>\n",
              "      <td>13.57</td>\n",
              "      <td>0.8686</td>\n",
              "      <td>5.226</td>\n",
              "      <td>3.049</td>\n",
              "      <td>4.102</td>\n",
              "      <td>4.914</td>\n",
              "      <td>1</td>\n",
              "    </tr>\n",
              "    <tr>\n",
              "      <th>70</th>\n",
              "      <td>17.63</td>\n",
              "      <td>15.98</td>\n",
              "      <td>0.8673</td>\n",
              "      <td>6.191</td>\n",
              "      <td>3.561</td>\n",
              "      <td>4.076</td>\n",
              "      <td>6.060</td>\n",
              "      <td>2</td>\n",
              "    </tr>\n",
              "    <tr>\n",
              "      <th>51</th>\n",
              "      <td>15.78</td>\n",
              "      <td>14.91</td>\n",
              "      <td>0.8923</td>\n",
              "      <td>5.674</td>\n",
              "      <td>3.434</td>\n",
              "      <td>5.593</td>\n",
              "      <td>5.136</td>\n",
              "      <td>1</td>\n",
              "    </tr>\n",
              "    <tr>\n",
              "      <th>207</th>\n",
              "      <td>13.20</td>\n",
              "      <td>13.66</td>\n",
              "      <td>0.8883</td>\n",
              "      <td>5.236</td>\n",
              "      <td>3.232</td>\n",
              "      <td>8.315</td>\n",
              "      <td>5.056</td>\n",
              "      <td>3</td>\n",
              "    </tr>\n",
              "    <tr>\n",
              "      <th>169</th>\n",
              "      <td>11.24</td>\n",
              "      <td>13.00</td>\n",
              "      <td>0.8359</td>\n",
              "      <td>5.090</td>\n",
              "      <td>2.715</td>\n",
              "      <td>3.521</td>\n",
              "      <td>5.088</td>\n",
              "      <td>3</td>\n",
              "    </tr>\n",
              "  </tbody>\n",
              "</table>\n",
              "</div>\n",
              "      <button class=\"colab-df-convert\" onclick=\"convertToInteractive('df-343bedf9-7610-482f-b280-4b1306c31d62')\"\n",
              "              title=\"Convert this dataframe to an interactive table.\"\n",
              "              style=\"display:none;\">\n",
              "        \n",
              "  <svg xmlns=\"http://www.w3.org/2000/svg\" height=\"24px\"viewBox=\"0 0 24 24\"\n",
              "       width=\"24px\">\n",
              "    <path d=\"M0 0h24v24H0V0z\" fill=\"none\"/>\n",
              "    <path d=\"M18.56 5.44l.94 2.06.94-2.06 2.06-.94-2.06-.94-.94-2.06-.94 2.06-2.06.94zm-11 1L8.5 8.5l.94-2.06 2.06-.94-2.06-.94L8.5 2.5l-.94 2.06-2.06.94zm10 10l.94 2.06.94-2.06 2.06-.94-2.06-.94-.94-2.06-.94 2.06-2.06.94z\"/><path d=\"M17.41 7.96l-1.37-1.37c-.4-.4-.92-.59-1.43-.59-.52 0-1.04.2-1.43.59L10.3 9.45l-7.72 7.72c-.78.78-.78 2.05 0 2.83L4 21.41c.39.39.9.59 1.41.59.51 0 1.02-.2 1.41-.59l7.78-7.78 2.81-2.81c.8-.78.8-2.07 0-2.86zM5.41 20L4 18.59l7.72-7.72 1.47 1.35L5.41 20z\"/>\n",
              "  </svg>\n",
              "      </button>\n",
              "      \n",
              "  <style>\n",
              "    .colab-df-container {\n",
              "      display:flex;\n",
              "      flex-wrap:wrap;\n",
              "      gap: 12px;\n",
              "    }\n",
              "\n",
              "    .colab-df-convert {\n",
              "      background-color: #E8F0FE;\n",
              "      border: none;\n",
              "      border-radius: 50%;\n",
              "      cursor: pointer;\n",
              "      display: none;\n",
              "      fill: #1967D2;\n",
              "      height: 32px;\n",
              "      padding: 0 0 0 0;\n",
              "      width: 32px;\n",
              "    }\n",
              "\n",
              "    .colab-df-convert:hover {\n",
              "      background-color: #E2EBFA;\n",
              "      box-shadow: 0px 1px 2px rgba(60, 64, 67, 0.3), 0px 1px 3px 1px rgba(60, 64, 67, 0.15);\n",
              "      fill: #174EA6;\n",
              "    }\n",
              "\n",
              "    [theme=dark] .colab-df-convert {\n",
              "      background-color: #3B4455;\n",
              "      fill: #D2E3FC;\n",
              "    }\n",
              "\n",
              "    [theme=dark] .colab-df-convert:hover {\n",
              "      background-color: #434B5C;\n",
              "      box-shadow: 0px 1px 3px 1px rgba(0, 0, 0, 0.15);\n",
              "      filter: drop-shadow(0px 1px 2px rgba(0, 0, 0, 0.3));\n",
              "      fill: #FFFFFF;\n",
              "    }\n",
              "  </style>\n",
              "\n",
              "      <script>\n",
              "        const buttonEl =\n",
              "          document.querySelector('#df-343bedf9-7610-482f-b280-4b1306c31d62 button.colab-df-convert');\n",
              "        buttonEl.style.display =\n",
              "          google.colab.kernel.accessAllowed ? 'block' : 'none';\n",
              "\n",
              "        async function convertToInteractive(key) {\n",
              "          const element = document.querySelector('#df-343bedf9-7610-482f-b280-4b1306c31d62');\n",
              "          const dataTable =\n",
              "            await google.colab.kernel.invokeFunction('convertToInteractive',\n",
              "                                                     [key], {});\n",
              "          if (!dataTable) return;\n",
              "\n",
              "          const docLinkHtml = 'Like what you see? Visit the ' +\n",
              "            '<a target=\"_blank\" href=https://colab.research.google.com/notebooks/data_table.ipynb>data table notebook</a>'\n",
              "            + ' to learn more about interactive tables.';\n",
              "          element.innerHTML = '';\n",
              "          dataTable['output_type'] = 'display_data';\n",
              "          await google.colab.output.renderOutput(dataTable, element);\n",
              "          const docLink = document.createElement('div');\n",
              "          docLink.innerHTML = docLinkHtml;\n",
              "          element.appendChild(docLink);\n",
              "        }\n",
              "      </script>\n",
              "    </div>\n",
              "  </div>\n",
              "  "
            ]
          },
          "metadata": {},
          "execution_count": 3
        }
      ],
      "source": [
        "df = pd.read_csv(filepath, sep=\"\\t\")\n",
        "df.sample(10, random_state=nim)"
      ]
    },
    {
      "cell_type": "markdown",
      "metadata": {
        "id": "QMJ_neqJCsdh"
      },
      "source": [
        "Training/test split **60/40**"
      ]
    },
    {
      "cell_type": "code",
      "execution_count": null,
      "metadata": {
        "id": "Fuh2xQsoCsdh",
        "colab": {
          "base_uri": "https://localhost:8080/"
        },
        "outputId": "c18f38ed-0166-47ab-9819-24c35676793e"
      },
      "outputs": [
        {
          "output_type": "execute_result",
          "data": {
            "text/plain": [
              "(126, 84)"
            ]
          },
          "metadata": {},
          "execution_count": 6
        }
      ],
      "source": [
        "# X: semua kolom, Y: kolom terakhir (category)\n",
        "x = df.iloc[:, 0:-1]\n",
        "y = df.iloc[:, -1]\n",
        "x_train, x_test, y_train, y_test = train_test_split(x, y, train_size=0.6, random_state=nim)\n",
        "\n",
        "# We perform bootstrap on the train data\n",
        "# Keep test data for final accuracy testing\n",
        "len(x_train), len(x_test)"
      ]
    },
    {
      "cell_type": "code",
      "source": [
        "x_train.head()"
      ],
      "metadata": {
        "colab": {
          "base_uri": "https://localhost:8080/",
          "height": 206
        },
        "id": "4IHoyX3jGZHw",
        "outputId": "08dab74d-bf63-40ab-c52b-047df823e187"
      },
      "execution_count": null,
      "outputs": [
        {
          "output_type": "execute_result",
          "data": {
            "text/plain": [
              "      Area  Perimeter  Compactness  Kernel_len  Kernel_width  Assymetry  \\\n",
              "157  12.13      13.73       0.8081       5.394         2.745      4.825   \n",
              "118  18.89      16.23       0.9008       6.227         3.769      3.639   \n",
              "159  11.49      13.22       0.8263       5.304         2.695      5.388   \n",
              "112  19.13      16.31       0.9035       6.183         3.902      2.109   \n",
              "83   19.57      16.74       0.8779       6.384         3.772      1.472   \n",
              "\n",
              "     Groove_len  \n",
              "157       5.220  \n",
              "118       5.966  \n",
              "159       5.310  \n",
              "112       5.924  \n",
              "83        6.273  "
            ],
            "text/html": [
              "\n",
              "  <div id=\"df-c9796249-789c-4968-9ea1-b1f6b8765645\">\n",
              "    <div class=\"colab-df-container\">\n",
              "      <div>\n",
              "<style scoped>\n",
              "    .dataframe tbody tr th:only-of-type {\n",
              "        vertical-align: middle;\n",
              "    }\n",
              "\n",
              "    .dataframe tbody tr th {\n",
              "        vertical-align: top;\n",
              "    }\n",
              "\n",
              "    .dataframe thead th {\n",
              "        text-align: right;\n",
              "    }\n",
              "</style>\n",
              "<table border=\"1\" class=\"dataframe\">\n",
              "  <thead>\n",
              "    <tr style=\"text-align: right;\">\n",
              "      <th></th>\n",
              "      <th>Area</th>\n",
              "      <th>Perimeter</th>\n",
              "      <th>Compactness</th>\n",
              "      <th>Kernel_len</th>\n",
              "      <th>Kernel_width</th>\n",
              "      <th>Assymetry</th>\n",
              "      <th>Groove_len</th>\n",
              "    </tr>\n",
              "  </thead>\n",
              "  <tbody>\n",
              "    <tr>\n",
              "      <th>157</th>\n",
              "      <td>12.13</td>\n",
              "      <td>13.73</td>\n",
              "      <td>0.8081</td>\n",
              "      <td>5.394</td>\n",
              "      <td>2.745</td>\n",
              "      <td>4.825</td>\n",
              "      <td>5.220</td>\n",
              "    </tr>\n",
              "    <tr>\n",
              "      <th>118</th>\n",
              "      <td>18.89</td>\n",
              "      <td>16.23</td>\n",
              "      <td>0.9008</td>\n",
              "      <td>6.227</td>\n",
              "      <td>3.769</td>\n",
              "      <td>3.639</td>\n",
              "      <td>5.966</td>\n",
              "    </tr>\n",
              "    <tr>\n",
              "      <th>159</th>\n",
              "      <td>11.49</td>\n",
              "      <td>13.22</td>\n",
              "      <td>0.8263</td>\n",
              "      <td>5.304</td>\n",
              "      <td>2.695</td>\n",
              "      <td>5.388</td>\n",
              "      <td>5.310</td>\n",
              "    </tr>\n",
              "    <tr>\n",
              "      <th>112</th>\n",
              "      <td>19.13</td>\n",
              "      <td>16.31</td>\n",
              "      <td>0.9035</td>\n",
              "      <td>6.183</td>\n",
              "      <td>3.902</td>\n",
              "      <td>2.109</td>\n",
              "      <td>5.924</td>\n",
              "    </tr>\n",
              "    <tr>\n",
              "      <th>83</th>\n",
              "      <td>19.57</td>\n",
              "      <td>16.74</td>\n",
              "      <td>0.8779</td>\n",
              "      <td>6.384</td>\n",
              "      <td>3.772</td>\n",
              "      <td>1.472</td>\n",
              "      <td>6.273</td>\n",
              "    </tr>\n",
              "  </tbody>\n",
              "</table>\n",
              "</div>\n",
              "      <button class=\"colab-df-convert\" onclick=\"convertToInteractive('df-c9796249-789c-4968-9ea1-b1f6b8765645')\"\n",
              "              title=\"Convert this dataframe to an interactive table.\"\n",
              "              style=\"display:none;\">\n",
              "        \n",
              "  <svg xmlns=\"http://www.w3.org/2000/svg\" height=\"24px\"viewBox=\"0 0 24 24\"\n",
              "       width=\"24px\">\n",
              "    <path d=\"M0 0h24v24H0V0z\" fill=\"none\"/>\n",
              "    <path d=\"M18.56 5.44l.94 2.06.94-2.06 2.06-.94-2.06-.94-.94-2.06-.94 2.06-2.06.94zm-11 1L8.5 8.5l.94-2.06 2.06-.94-2.06-.94L8.5 2.5l-.94 2.06-2.06.94zm10 10l.94 2.06.94-2.06 2.06-.94-2.06-.94-.94-2.06-.94 2.06-2.06.94z\"/><path d=\"M17.41 7.96l-1.37-1.37c-.4-.4-.92-.59-1.43-.59-.52 0-1.04.2-1.43.59L10.3 9.45l-7.72 7.72c-.78.78-.78 2.05 0 2.83L4 21.41c.39.39.9.59 1.41.59.51 0 1.02-.2 1.41-.59l7.78-7.78 2.81-2.81c.8-.78.8-2.07 0-2.86zM5.41 20L4 18.59l7.72-7.72 1.47 1.35L5.41 20z\"/>\n",
              "  </svg>\n",
              "      </button>\n",
              "      \n",
              "  <style>\n",
              "    .colab-df-container {\n",
              "      display:flex;\n",
              "      flex-wrap:wrap;\n",
              "      gap: 12px;\n",
              "    }\n",
              "\n",
              "    .colab-df-convert {\n",
              "      background-color: #E8F0FE;\n",
              "      border: none;\n",
              "      border-radius: 50%;\n",
              "      cursor: pointer;\n",
              "      display: none;\n",
              "      fill: #1967D2;\n",
              "      height: 32px;\n",
              "      padding: 0 0 0 0;\n",
              "      width: 32px;\n",
              "    }\n",
              "\n",
              "    .colab-df-convert:hover {\n",
              "      background-color: #E2EBFA;\n",
              "      box-shadow: 0px 1px 2px rgba(60, 64, 67, 0.3), 0px 1px 3px 1px rgba(60, 64, 67, 0.15);\n",
              "      fill: #174EA6;\n",
              "    }\n",
              "\n",
              "    [theme=dark] .colab-df-convert {\n",
              "      background-color: #3B4455;\n",
              "      fill: #D2E3FC;\n",
              "    }\n",
              "\n",
              "    [theme=dark] .colab-df-convert:hover {\n",
              "      background-color: #434B5C;\n",
              "      box-shadow: 0px 1px 3px 1px rgba(0, 0, 0, 0.15);\n",
              "      filter: drop-shadow(0px 1px 2px rgba(0, 0, 0, 0.3));\n",
              "      fill: #FFFFFF;\n",
              "    }\n",
              "  </style>\n",
              "\n",
              "      <script>\n",
              "        const buttonEl =\n",
              "          document.querySelector('#df-c9796249-789c-4968-9ea1-b1f6b8765645 button.colab-df-convert');\n",
              "        buttonEl.style.display =\n",
              "          google.colab.kernel.accessAllowed ? 'block' : 'none';\n",
              "\n",
              "        async function convertToInteractive(key) {\n",
              "          const element = document.querySelector('#df-c9796249-789c-4968-9ea1-b1f6b8765645');\n",
              "          const dataTable =\n",
              "            await google.colab.kernel.invokeFunction('convertToInteractive',\n",
              "                                                     [key], {});\n",
              "          if (!dataTable) return;\n",
              "\n",
              "          const docLinkHtml = 'Like what you see? Visit the ' +\n",
              "            '<a target=\"_blank\" href=https://colab.research.google.com/notebooks/data_table.ipynb>data table notebook</a>'\n",
              "            + ' to learn more about interactive tables.';\n",
              "          element.innerHTML = '';\n",
              "          dataTable['output_type'] = 'display_data';\n",
              "          await google.colab.output.renderOutput(dataTable, element);\n",
              "          const docLink = document.createElement('div');\n",
              "          docLink.innerHTML = docLinkHtml;\n",
              "          element.appendChild(docLink);\n",
              "        }\n",
              "      </script>\n",
              "    </div>\n",
              "  </div>\n",
              "  "
            ]
          },
          "metadata": {},
          "execution_count": 8
        }
      ]
    },
    {
      "cell_type": "markdown",
      "metadata": {
        "id": "cm54gLH_Csdi"
      },
      "source": [
        "# Random Forest\n",
        "Build a Random Forest, consisting of 20 Decision Tree classifer, with the following steps:\n",
        "\n",
        "1. Prepare Bootstrap data (choose randomly from the *training data*, use sampling with replacement)\n",
        "2. Choose 2-4 random features/atributes for each tree\n",
        "3. Build Decision Tree classifier using step (1) and (2)\n",
        "4. Calculate OOB score within the tree only\n",
        "\n",
        "**NOTE**\n",
        "This whole exercise has been simplified.\n",
        "- Tree can be created using a library, therefore you may not be able control the feature selection on node level\n",
        "- Random features are only selected in the beginning of each tree.\n",
        "- OOB score is only calculated within its own tree instead.\n",
        "- Typically Random Forest don't use train/test split and can be validated using OOB error. We simplify this to make it easier to test.\n",
        "- You are not allowed to use a Random Forest or Bagging library.\n"
      ]
    },
    {
      "cell_type": "code",
      "execution_count": null,
      "metadata": {
        "id": "mIlkpkJwCsdi",
        "colab": {
          "base_uri": "https://localhost:8080/"
        },
        "outputId": "10f35892-197a-4463-8eec-2b6197e80ba5"
      },
      "outputs": [
        {
          "output_type": "stream",
          "name": "stdout",
          "text": [
            "Index(['Kernel_len', 'Perimeter', 'Groove_len'], dtype='object') 0.8690476190476191\n",
            "Index(['Assymetry', 'Compactness'], dtype='object') 0.5357142857142857\n",
            "Index(['Area', 'Compactness'], dtype='object') 0.8333333333333334\n",
            "Index(['Kernel_width', 'Compactness', 'Area', 'Kernel_len'], dtype='object') 0.8333333333333334\n",
            "Index(['Kernel_width', 'Compactness'], dtype='object') 0.8095238095238095\n",
            "Index(['Kernel_width', 'Kernel_len', 'Compactness'], dtype='object') 0.7738095238095238\n",
            "Index(['Kernel_width', 'Compactness', 'Area', 'Assymetry'], dtype='object') 0.8571428571428571\n",
            "Index(['Groove_len', 'Area', 'Perimeter'], dtype='object') 0.8095238095238095\n",
            "Index(['Kernel_width', 'Assymetry'], dtype='object') 0.8571428571428571\n",
            "Index(['Kernel_len', 'Assymetry', 'Perimeter', 'Area'], dtype='object') 0.7619047619047619\n",
            "Index(['Groove_len', 'Kernel_width', 'Area'], dtype='object') 0.8928571428571429\n",
            "Index(['Groove_len', 'Assymetry'], dtype='object') 0.8333333333333334\n",
            "Index(['Kernel_width', 'Assymetry', 'Compactness', 'Area'], dtype='object') 0.7857142857142857\n",
            "Index(['Kernel_len', 'Kernel_width'], dtype='object') 0.7380952380952381\n",
            "Index(['Assymetry', 'Kernel_width', 'Groove_len', 'Perimeter'], dtype='object') 0.8928571428571429\n",
            "Index(['Kernel_width', 'Compactness', 'Perimeter', 'Area'], dtype='object') 0.75\n",
            "Index(['Kernel_len', 'Perimeter', 'Compactness'], dtype='object') 0.7380952380952381\n",
            "Index(['Assymetry', 'Kernel_len'], dtype='object') 0.8452380952380952\n",
            "Index(['Groove_len', 'Compactness', 'Area'], dtype='object') 0.8095238095238095\n",
            "Index(['Groove_len', 'Kernel_len'], dtype='object') 0.8333333333333334\n"
          ]
        }
      ],
      "source": [
        "np.random.seed(nim)\n",
        "n_tree = 20\n",
        "\n",
        "forest = []\n",
        "bootstrap_columns = []\n",
        "for i in range(n_tree):\n",
        "    # 1. Bootstrapping\n",
        "    # select random rows\n",
        "    rows = np.random.choice(len(x_train), size=42, replace=False)\n",
        "    x_bootstrap = x_train.iloc[rows]\n",
        "    y_bootstrap = y_train.iloc[rows]\n",
        "\n",
        "    # Out of Bag data\n",
        "    non_selected_rows = np.delete(np.arange(0, len(x_train)), rows)\n",
        "    x_oob = x_train.iloc[non_selected_rows]\n",
        "    y_oob = y_train.iloc[non_selected_rows]\n",
        "\n",
        "    # 2. Select random features (make sure to keep track the selected columns)\n",
        "    # Check for any repeated combinations\n",
        "    feature_taken = np.random.choice(len(x_train.columns), size=np.random.randint(2, 5), replace=False)\n",
        "    cols = x_train.columns[feature_taken]\n",
        "    bootstrap_columns.append(cols)\n",
        "\n",
        "    # filter based on the selected columns\n",
        "    x_bootstrap = x_bootstrap.iloc[:, feature_taken]\n",
        "    x_oob = x_oob.iloc[:, feature_taken]\n",
        "\n",
        "    # 3. Build decision tree\n",
        "    # Let it grow, no pruning\n",
        "    tree_model = tree.DecisionTreeClassifier(criterion=\"entropy\", max_depth=len(feature_taken)+1) #diperbolehkan\n",
        "\n",
        "    # Add it to the forest\n",
        "    forest.append(tree_model)\n",
        "\n",
        "    # 4. Calculate oob score only within its own tree\n",
        "    tree_model.fit(x_bootstrap, y_bootstrap)\n",
        "    oob_score = np.sum(tree_model.predict(x_oob) == y_oob)/len(x_oob)\n",
        "    print(cols, oob_score)\n",
        "\n"
      ]
    },
    {
      "cell_type": "markdown",
      "metadata": {
        "id": "1Z4FEJhLCsdi"
      },
      "source": [
        "# Prediction and Voting\n",
        "Run prediction on x_test data for each tree\n",
        "\n",
        "Also calculate accuracy per tree here"
      ]
    },
    {
      "cell_type": "code",
      "execution_count": 75,
      "metadata": {
        "id": "0RJ8ngtkCsdi",
        "colab": {
          "base_uri": "https://localhost:8080/"
        },
        "outputId": "ff23b08c-9fcc-42a5-a590-bd6be3338667"
      },
      "outputs": [
        {
          "output_type": "stream",
          "name": "stdout",
          "text": [
            "0.8571428571428571\n",
            "0.5833333333333334\n",
            "0.8809523809523809\n",
            "0.7857142857142857\n",
            "0.7738095238095238\n",
            "0.7142857142857143\n",
            "0.8452380952380952\n",
            "0.8095238095238095\n",
            "0.7857142857142857\n",
            "0.8214285714285714\n",
            "0.8690476190476191\n",
            "0.7738095238095238\n",
            "0.8571428571428571\n",
            "0.7738095238095238\n",
            "0.8571428571428571\n",
            "0.7261904761904762\n",
            "0.8214285714285714\n",
            "0.7857142857142857\n",
            "0.7142857142857143\n",
            "0.8809523809523809\n",
            "[[2 1 1 ... 1 1 2]\n",
            " [1 3 1 ... 1 3 1]\n",
            " [2 1 1 ... 1 1 2]\n",
            " ...\n",
            " [2 1 2 ... 1 2 2]\n",
            " [2 3 1 ... 1 3 2]\n",
            " [2 1 1 ... 3 1 2]]\n",
            "(20, 84)\n"
          ]
        }
      ],
      "source": [
        "all_preds = []\n",
        "for i, tree_model in enumerate(forest):\n",
        "    # Each tree has different column requirements\n",
        "    # Make sure you use the correct columns for each tree\n",
        "    x_test_filtered = x_test[bootstrap_columns[i]]\n",
        "    predictions = tree_model.predict(x_test_filtered)\n",
        "\n",
        "    # Might as well calculate accuracy per tree here...\n",
        "    acc = np.sum(predictions == y_test) / len(predictions)\n",
        "    print(acc)\n",
        "\n",
        "    # add it to all_preds for voting later\n",
        "    all_preds.append(predictions)\n",
        "\n",
        "all_preds = np.array(all_preds)\n",
        "print(all_preds)\n",
        "print(all_preds.shape)"
      ]
    },
    {
      "cell_type": "markdown",
      "metadata": {
        "id": "Fs2xAtLMCsdj"
      },
      "source": [
        "### Perform voting on the predictions from the Random Forest"
      ]
    },
    {
      "cell_type": "code",
      "execution_count": 98,
      "metadata": {
        "id": "p9eIwCsGCsdj",
        "colab": {
          "base_uri": "https://localhost:8080/"
        },
        "outputId": "3bbac4fb-4d7c-45c0-f1f4-2e8404326182"
      },
      "outputs": [
        {
          "output_type": "stream",
          "name": "stdout",
          "text": [
            "0.6904761904761905\n"
          ]
        }
      ],
      "source": [
        "# Insert voting code here\n",
        "import statistics as st\n",
        "\n",
        "all_preds = all_preds.T\n",
        "voted_predictions = []\n",
        "for i in enumerate(all_preds):\n",
        "    voted_predictions.append(st.mode(all_preds[i]))\n",
        "\n",
        "# print(voted_predictions)\n",
        "\n",
        "# Calculate accuracy of Test data on the Forest\n",
        "acc = np.sum(voted_predictions == y_test) / len(voted_predictions)\n",
        "print(acc)\n",
        "\n"
      ]
    },
    {
      "cell_type": "markdown",
      "metadata": {
        "id": "Q3G9jNFTCsdj"
      },
      "source": [
        "After you're done with all this, please check the excel file and put the answers for every column there."
      ]
    }
  ],
  "metadata": {
    "kernelspec": {
      "display_name": "Python 3.10.8 ('tugas3')",
      "language": "python",
      "name": "python3"
    },
    "language_info": {
      "codemirror_mode": {
        "name": "ipython",
        "version": 3
      },
      "file_extension": ".py",
      "mimetype": "text/x-python",
      "name": "python",
      "nbconvert_exporter": "python",
      "pygments_lexer": "ipython3",
      "version": "3.10.8"
    },
    "orig_nbformat": 4,
    "vscode": {
      "interpreter": {
        "hash": "486ee4d26de12a9ebc4c044e4309648e10037d9316726c9d112e2ad4a1fad8b4"
      }
    },
    "colab": {
      "provenance": []
    }
  },
  "nbformat": 4,
  "nbformat_minor": 0
}